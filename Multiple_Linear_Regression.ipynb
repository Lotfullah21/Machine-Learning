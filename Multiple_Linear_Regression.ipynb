{
  "nbformat": 4,
  "nbformat_minor": 0,
  "metadata": {
    "colab": {
      "name": "Multiple Linear_Regression.ipynb",
      "provenance": [],
      "authorship_tag": "ABX9TyO+vm6ups7LXyMcYKcTKg8v",
      "include_colab_link": true
    },
    "kernelspec": {
      "name": "python3",
      "display_name": "Python 3"
    },
    "language_info": {
      "name": "python"
    }
  },
  "cells": [
    {
      "cell_type": "markdown",
      "metadata": {
        "id": "view-in-github",
        "colab_type": "text"
      },
      "source": [
        "<a href=\"https://colab.research.google.com/github/Lotfullah21/Machine-Learning/blob/main/Multiple_Linear_Regression.ipynb\" target=\"_parent\"><img src=\"https://colab.research.google.com/assets/colab-badge.svg\" alt=\"Open In Colab\"/></a>"
      ]
    },
    {
      "cell_type": "markdown",
      "source": [
        "## Multi Linear Regression: \n",
        "Regression is a supervised learning algorithm which takes a set of real input values and to make prediction on the set of new real values. basically they are mapping input to the output.\n",
        "the simplest form  of linear regression models are also linear funcion of input variables.\n",
        "we have the fucnitons which are linear funcion of parameters and non linear with respect to the inputs(X), these are known as **basis functions**\n"
      ],
      "metadata": {
        "id": "CxAKkQCwVN1X"
      }
    },
    {
      "cell_type": "markdown",
      "source": [
        "In this experiment we consider more than one independent parameters to estimate the dependent variable(Co2 Emissions)."
      ],
      "metadata": {
        "id": "2wjPtWEI5Ej5"
      }
    },
    {
      "cell_type": "markdown",
      "source": [
        "# Getting the data and Importing the required libraries"
      ],
      "metadata": {
        "id": "ROyC0nA76SrW"
      }
    },
    {
      "cell_type": "code",
      "source": [
        "path = 'https://cf-courses-data.s3.us.cloud-object-storage.appdomain.cloud/IBMDeveloperSkillsNetwork-ML0101EN-SkillsNetwork/labs/Module%202/data/FuelConsumptionCo2.csv'"
      ],
      "metadata": {
        "id": "B88MRCUf6xi9"
      },
      "execution_count": 3,
      "outputs": []
    },
    {
      "cell_type": "code",
      "source": [
        "import pandas as pd\n",
        "import numpy as np\n",
        "import matplotlib.pyplot as plt\n"
      ],
      "metadata": {
        "id": "fGSB2RmixJJh"
      },
      "execution_count": 5,
      "outputs": []
    },
    {
      "cell_type": "code",
      "source": [
        ""
      ],
      "metadata": {
        "id": "3-SBPC2j6XYO"
      },
      "execution_count": null,
      "outputs": []
    }
  ]
}