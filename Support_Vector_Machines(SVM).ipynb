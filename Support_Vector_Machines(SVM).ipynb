{
  "nbformat": 4,
  "nbformat_minor": 0,
  "metadata": {
    "colab": {
      "name": "Support Vector Machines(SVM).ipynb",
      "provenance": [],
      "collapsed_sections": [],
      "authorship_tag": "ABX9TyMfl1nvY4N/EonXPWPkb94L",
      "include_colab_link": true
    },
    "kernelspec": {
      "name": "python3",
      "display_name": "Python 3"
    },
    "language_info": {
      "name": "python"
    }
  },
  "cells": [
    {
      "cell_type": "markdown",
      "metadata": {
        "id": "view-in-github",
        "colab_type": "text"
      },
      "source": [
        "<a href=\"https://colab.research.google.com/github/Lotfullah21/Machine-Learning/blob/main/Support_Vector_Machines(SVM).ipynb\" target=\"_parent\"><img src=\"https://colab.research.google.com/assets/colab-badge.svg\" alt=\"Open In Colab\"/></a>"
      ]
    },
    {
      "cell_type": "markdown",
      "source": [
        "# The Support Vector Machines(SVMs)"
      ],
      "metadata": {
        "id": "Xop1Dto8WwgF"
      }
    },
    {
      "cell_type": "markdown",
      "source": [
        "\n",
        "it is an extension of the support vector classifier that results from enlarging the feature space in a specific way using kernels.\n",
        "The SVM algorithm outputs an optimal Hyperplane that categorizes new examples.\n",
        "\n",
        "### Why Kerneling: \n",
        "most often our real data are not linearly seperable, kernels used here to extned there feature vector to higher dimensional space so that they can be classified.\n",
        "\n",
        "in SVM the goal is to maximize the margin between from the HyperPlane\n",
        "#### Hyperplane: \n",
        "it divides our data into two classes, on which is greater than zero to the right side of the hyper plane and the next class to the left side of the hyperplane:\n",
        "#### Margin:\n",
        "Margin is the distance from Hyperplane to the closest data point.\n",
        "#### Support Vectors: \n",
        "these are the ones that define the shape,or position of the hyper plane. we have to be very careful while choosing, slightest change can cause a huge change in our hyperplane.\n",
        "#### Why SVMs:\n",
        "in fact perceptron and SVMs are doing the same thing, but with one difference:\n",
        "in perceptrons, we have many classes of hyperplanes, But in Support vector machine we also have many, but the algorithm returns the one that has maximum margin, so that it won't be prune much to overfitting. "
      ],
      "metadata": {
        "id": "XGiJ1S-Il0vZ"
      }
    },
    {
      "cell_type": "markdown",
      "source": [
        ""
      ],
      "metadata": {
        "id": "p5frrbx6bn38"
      }
    },
    {
      "cell_type": "markdown",
      "source": [
        "## Kerneling:\n",
        "Mapping data to a higher dimensional space is known as kernenling, we have different functions to do this, but the most important ones are\n",
        "\n",
        "```\n",
        "1.Linear\n",
        "2.Polynomial\n",
        "3.Radial basis function (RBF)\n",
        "4.Sigmoid\n",
        "``` "
      ],
      "metadata": {
        "id": "LmQp92TpbIOB"
      }
    },
    {
      "cell_type": "markdown",
      "source": [
        "SVM works by mapping data to a high-dimensional feature space so that data points can be categorized, even when the data are not otherwise linearly separable. A separator between the categories is found, then the data is transformed in such a way that the separator could be drawn as a hyperplane. Following this, characteristics of new data can be used to predict the group to which a new record should belong.\n",
        "\"IBM course\"\n"
      ],
      "metadata": {
        "id": "YqXmnKf7bh4p"
      }
    },
    {
      "cell_type": "markdown",
      "source": [
        "## Importing Libraries"
      ],
      "metadata": {
        "id": "b-PC9sxyb3Ri"
      }
    },
    {
      "cell_type": "code",
      "source": [
        "import numpy as np\n",
        "import pandas as pd\n",
        "import matplotlib.pyplot as plt\n",
        "from sklearn import preprocessing\n",
        "from sklearn.model_selection import train_test_split\n",
        "import scipy.optimize as opt\n"
      ],
      "metadata": {
        "id": "5lVwvB9Cb6az"
      },
      "execution_count": 69,
      "outputs": []
    },
    {
      "cell_type": "markdown",
      "source": [
        "## Loading the Cancer Data"
      ],
      "metadata": {
        "id": "fCLlvr7XdAa3"
      }
    },
    {
      "cell_type": "markdown",
      "source": [
        "\n",
        "The example is based on a dataset that is publicly available from the UCI Machine Learning Repository (Asuncion and Newman, 2007)[http://mlearn.ics.uci.edu/MLRepository.html]. The dataset consists of several hundred human cell sample records, each of which contains the values of a set of cell characteristics. The fields in each record are:\n",
        "\n",
        "| Field name  | Description                 |\n",
        "| ----------- | --------------------------- |\n",
        "| ID          | Clump thickness             |\n",
        "| Clump       | Clump thickness             |\n",
        "| UnifSize    | Uniformity of cell size     |\n",
        "| UnifShape   | Uniformity of cell shape    |\n",
        "| MargAdh     | Marginal adhesion           |\n",
        "| SingEpiSize | Single epithelial cell size |\n",
        "| BareNuc     | Bare nuclei                 |\n",
        "| BlandChrom  | Bland chromatin             |\n",
        "| NormNucl    | Normal nucleoli             |\n",
        "| Mit         | Mitoses                     |\n",
        "| Class       | Benign or malignant         |\n",
        "<br>\n",
        "<br>"
      ],
      "metadata": {
        "id": "rpZ8rn_fdMKs"
      }
    },
    {
      "cell_type": "code",
      "source": [
        "!wget -O cell_samples.csv https://cf-courses-data.s3.us.cloud-object-storage.appdomain.cloud/IBMDeveloperSkillsNetwork-ML0101EN-SkillsNetwork/labs/Module%203/data/cell_samples.csv"
      ],
      "metadata": {
        "colab": {
          "base_uri": "https://localhost:8080/"
        },
        "id": "PrjyXIl_cZy9",
        "outputId": "501e27ab-d41e-4d1a-8c62-c2ce92898411"
      },
      "execution_count": 70,
      "outputs": [
        {
          "output_type": "stream",
          "name": "stdout",
          "text": [
            "--2022-06-03 12:32:56--  https://cf-courses-data.s3.us.cloud-object-storage.appdomain.cloud/IBMDeveloperSkillsNetwork-ML0101EN-SkillsNetwork/labs/Module%203/data/cell_samples.csv\n",
            "Resolving cf-courses-data.s3.us.cloud-object-storage.appdomain.cloud (cf-courses-data.s3.us.cloud-object-storage.appdomain.cloud)... 169.63.118.104\n",
            "Connecting to cf-courses-data.s3.us.cloud-object-storage.appdomain.cloud (cf-courses-data.s3.us.cloud-object-storage.appdomain.cloud)|169.63.118.104|:443... connected.\n",
            "HTTP request sent, awaiting response... 200 OK\n",
            "Length: 19975 (20K) [text/csv]\n",
            "Saving to: ‘cell_samples.csv’\n",
            "\n",
            "cell_samples.csv    100%[===================>]  19.51K  --.-KB/s    in 0s      \n",
            "\n",
            "2022-06-03 12:32:56 (209 MB/s) - ‘cell_samples.csv’ saved [19975/19975]\n",
            "\n"
          ]
        }
      ]
    },
    {
      "cell_type": "markdown",
      "source": [
        ""
      ],
      "metadata": {
        "id": "Ndq3YDHZ9gqM"
      }
    },
    {
      "cell_type": "code",
      "source": [
        "df = pd.read_csv(\"cell_samples.csv\")\n",
        "df.head()\n"
      ],
      "metadata": {
        "colab": {
          "base_uri": "https://localhost:8080/",
          "height": 206
        },
        "id": "jG1YxQ-PdoNB",
        "outputId": "361632ec-6624-4072-b9fa-5821713ec4a0"
      },
      "execution_count": 71,
      "outputs": [
        {
          "output_type": "execute_result",
          "data": {
            "text/plain": [
              "        ID  Clump  UnifSize  UnifShape  MargAdh  SingEpiSize BareNuc  \\\n",
              "0  1000025      5         1          1        1            2       1   \n",
              "1  1002945      5         4          4        5            7      10   \n",
              "2  1015425      3         1          1        1            2       2   \n",
              "3  1016277      6         8          8        1            3       4   \n",
              "4  1017023      4         1          1        3            2       1   \n",
              "\n",
              "   BlandChrom  NormNucl  Mit  Class  \n",
              "0           3         1    1      2  \n",
              "1           3         2    1      2  \n",
              "2           3         1    1      2  \n",
              "3           3         7    1      2  \n",
              "4           3         1    1      2  "
            ],
            "text/html": [
              "\n",
              "  <div id=\"df-0f46673c-d6e6-4617-917b-ee9ae9c1eb81\">\n",
              "    <div class=\"colab-df-container\">\n",
              "      <div>\n",
              "<style scoped>\n",
              "    .dataframe tbody tr th:only-of-type {\n",
              "        vertical-align: middle;\n",
              "    }\n",
              "\n",
              "    .dataframe tbody tr th {\n",
              "        vertical-align: top;\n",
              "    }\n",
              "\n",
              "    .dataframe thead th {\n",
              "        text-align: right;\n",
              "    }\n",
              "</style>\n",
              "<table border=\"1\" class=\"dataframe\">\n",
              "  <thead>\n",
              "    <tr style=\"text-align: right;\">\n",
              "      <th></th>\n",
              "      <th>ID</th>\n",
              "      <th>Clump</th>\n",
              "      <th>UnifSize</th>\n",
              "      <th>UnifShape</th>\n",
              "      <th>MargAdh</th>\n",
              "      <th>SingEpiSize</th>\n",
              "      <th>BareNuc</th>\n",
              "      <th>BlandChrom</th>\n",
              "      <th>NormNucl</th>\n",
              "      <th>Mit</th>\n",
              "      <th>Class</th>\n",
              "    </tr>\n",
              "  </thead>\n",
              "  <tbody>\n",
              "    <tr>\n",
              "      <th>0</th>\n",
              "      <td>1000025</td>\n",
              "      <td>5</td>\n",
              "      <td>1</td>\n",
              "      <td>1</td>\n",
              "      <td>1</td>\n",
              "      <td>2</td>\n",
              "      <td>1</td>\n",
              "      <td>3</td>\n",
              "      <td>1</td>\n",
              "      <td>1</td>\n",
              "      <td>2</td>\n",
              "    </tr>\n",
              "    <tr>\n",
              "      <th>1</th>\n",
              "      <td>1002945</td>\n",
              "      <td>5</td>\n",
              "      <td>4</td>\n",
              "      <td>4</td>\n",
              "      <td>5</td>\n",
              "      <td>7</td>\n",
              "      <td>10</td>\n",
              "      <td>3</td>\n",
              "      <td>2</td>\n",
              "      <td>1</td>\n",
              "      <td>2</td>\n",
              "    </tr>\n",
              "    <tr>\n",
              "      <th>2</th>\n",
              "      <td>1015425</td>\n",
              "      <td>3</td>\n",
              "      <td>1</td>\n",
              "      <td>1</td>\n",
              "      <td>1</td>\n",
              "      <td>2</td>\n",
              "      <td>2</td>\n",
              "      <td>3</td>\n",
              "      <td>1</td>\n",
              "      <td>1</td>\n",
              "      <td>2</td>\n",
              "    </tr>\n",
              "    <tr>\n",
              "      <th>3</th>\n",
              "      <td>1016277</td>\n",
              "      <td>6</td>\n",
              "      <td>8</td>\n",
              "      <td>8</td>\n",
              "      <td>1</td>\n",
              "      <td>3</td>\n",
              "      <td>4</td>\n",
              "      <td>3</td>\n",
              "      <td>7</td>\n",
              "      <td>1</td>\n",
              "      <td>2</td>\n",
              "    </tr>\n",
              "    <tr>\n",
              "      <th>4</th>\n",
              "      <td>1017023</td>\n",
              "      <td>4</td>\n",
              "      <td>1</td>\n",
              "      <td>1</td>\n",
              "      <td>3</td>\n",
              "      <td>2</td>\n",
              "      <td>1</td>\n",
              "      <td>3</td>\n",
              "      <td>1</td>\n",
              "      <td>1</td>\n",
              "      <td>2</td>\n",
              "    </tr>\n",
              "  </tbody>\n",
              "</table>\n",
              "</div>\n",
              "      <button class=\"colab-df-convert\" onclick=\"convertToInteractive('df-0f46673c-d6e6-4617-917b-ee9ae9c1eb81')\"\n",
              "              title=\"Convert this dataframe to an interactive table.\"\n",
              "              style=\"display:none;\">\n",
              "        \n",
              "  <svg xmlns=\"http://www.w3.org/2000/svg\" height=\"24px\"viewBox=\"0 0 24 24\"\n",
              "       width=\"24px\">\n",
              "    <path d=\"M0 0h24v24H0V0z\" fill=\"none\"/>\n",
              "    <path d=\"M18.56 5.44l.94 2.06.94-2.06 2.06-.94-2.06-.94-.94-2.06-.94 2.06-2.06.94zm-11 1L8.5 8.5l.94-2.06 2.06-.94-2.06-.94L8.5 2.5l-.94 2.06-2.06.94zm10 10l.94 2.06.94-2.06 2.06-.94-2.06-.94-.94-2.06-.94 2.06-2.06.94z\"/><path d=\"M17.41 7.96l-1.37-1.37c-.4-.4-.92-.59-1.43-.59-.52 0-1.04.2-1.43.59L10.3 9.45l-7.72 7.72c-.78.78-.78 2.05 0 2.83L4 21.41c.39.39.9.59 1.41.59.51 0 1.02-.2 1.41-.59l7.78-7.78 2.81-2.81c.8-.78.8-2.07 0-2.86zM5.41 20L4 18.59l7.72-7.72 1.47 1.35L5.41 20z\"/>\n",
              "  </svg>\n",
              "      </button>\n",
              "      \n",
              "  <style>\n",
              "    .colab-df-container {\n",
              "      display:flex;\n",
              "      flex-wrap:wrap;\n",
              "      gap: 12px;\n",
              "    }\n",
              "\n",
              "    .colab-df-convert {\n",
              "      background-color: #E8F0FE;\n",
              "      border: none;\n",
              "      border-radius: 50%;\n",
              "      cursor: pointer;\n",
              "      display: none;\n",
              "      fill: #1967D2;\n",
              "      height: 32px;\n",
              "      padding: 0 0 0 0;\n",
              "      width: 32px;\n",
              "    }\n",
              "\n",
              "    .colab-df-convert:hover {\n",
              "      background-color: #E2EBFA;\n",
              "      box-shadow: 0px 1px 2px rgba(60, 64, 67, 0.3), 0px 1px 3px 1px rgba(60, 64, 67, 0.15);\n",
              "      fill: #174EA6;\n",
              "    }\n",
              "\n",
              "    [theme=dark] .colab-df-convert {\n",
              "      background-color: #3B4455;\n",
              "      fill: #D2E3FC;\n",
              "    }\n",
              "\n",
              "    [theme=dark] .colab-df-convert:hover {\n",
              "      background-color: #434B5C;\n",
              "      box-shadow: 0px 1px 3px 1px rgba(0, 0, 0, 0.15);\n",
              "      filter: drop-shadow(0px 1px 2px rgba(0, 0, 0, 0.3));\n",
              "      fill: #FFFFFF;\n",
              "    }\n",
              "  </style>\n",
              "\n",
              "      <script>\n",
              "        const buttonEl =\n",
              "          document.querySelector('#df-0f46673c-d6e6-4617-917b-ee9ae9c1eb81 button.colab-df-convert');\n",
              "        buttonEl.style.display =\n",
              "          google.colab.kernel.accessAllowed ? 'block' : 'none';\n",
              "\n",
              "        async function convertToInteractive(key) {\n",
              "          const element = document.querySelector('#df-0f46673c-d6e6-4617-917b-ee9ae9c1eb81');\n",
              "          const dataTable =\n",
              "            await google.colab.kernel.invokeFunction('convertToInteractive',\n",
              "                                                     [key], {});\n",
              "          if (!dataTable) return;\n",
              "\n",
              "          const docLinkHtml = 'Like what you see? Visit the ' +\n",
              "            '<a target=\"_blank\" href=https://colab.research.google.com/notebooks/data_table.ipynb>data table notebook</a>'\n",
              "            + ' to learn more about interactive tables.';\n",
              "          element.innerHTML = '';\n",
              "          dataTable['output_type'] = 'display_data';\n",
              "          await google.colab.output.renderOutput(dataTable, element);\n",
              "          const docLink = document.createElement('div');\n",
              "          docLink.innerHTML = docLinkHtml;\n",
              "          element.appendChild(docLink);\n",
              "        }\n",
              "      </script>\n",
              "    </div>\n",
              "  </div>\n",
              "  "
            ]
          },
          "metadata": {},
          "execution_count": 71
        }
      ]
    },
    {
      "cell_type": "code",
      "source": [
        "cell = df[39:49]\n",
        "cell"
      ],
      "metadata": {
        "id": "DQsRulx6AVE5",
        "outputId": "6e8f337e-786b-41e9-cbcc-a13bf0ffa1bf",
        "colab": {
          "base_uri": "https://localhost:8080/",
          "height": 363
        }
      },
      "execution_count": 72,
      "outputs": [
        {
          "output_type": "execute_result",
          "data": {
            "text/plain": [
              "         ID  Clump  UnifSize  UnifShape  MargAdh  SingEpiSize BareNuc  \\\n",
              "39  1091262      2         5          3        3            6       7   \n",
              "40  1096800      6         6          6        9            6       ?   \n",
              "41  1099510     10         4          3        1            3       3   \n",
              "42  1100524      6        10         10        2            8      10   \n",
              "43  1102573      5         6          5        6           10       1   \n",
              "44  1103608     10        10         10        4            8       1   \n",
              "45  1103722      1         1          1        1            2       1   \n",
              "46  1105257      3         7          7        4            4       9   \n",
              "47  1105524      1         1          1        1            2       1   \n",
              "48  1106095      4         1          1        3            2       1   \n",
              "\n",
              "    BlandChrom  NormNucl  Mit  Class  \n",
              "39           7         5    1      4  \n",
              "40           7         8    1      2  \n",
              "41           6         5    2      4  \n",
              "42           7         3    3      4  \n",
              "43           3         1    1      4  \n",
              "44           8        10    1      4  \n",
              "45           2         1    2      2  \n",
              "46           4         8    1      4  \n",
              "47           2         1    1      2  \n",
              "48           3         1    1      2  "
            ],
            "text/html": [
              "\n",
              "  <div id=\"df-f90ff867-e103-42b7-8da2-30773e9935a0\">\n",
              "    <div class=\"colab-df-container\">\n",
              "      <div>\n",
              "<style scoped>\n",
              "    .dataframe tbody tr th:only-of-type {\n",
              "        vertical-align: middle;\n",
              "    }\n",
              "\n",
              "    .dataframe tbody tr th {\n",
              "        vertical-align: top;\n",
              "    }\n",
              "\n",
              "    .dataframe thead th {\n",
              "        text-align: right;\n",
              "    }\n",
              "</style>\n",
              "<table border=\"1\" class=\"dataframe\">\n",
              "  <thead>\n",
              "    <tr style=\"text-align: right;\">\n",
              "      <th></th>\n",
              "      <th>ID</th>\n",
              "      <th>Clump</th>\n",
              "      <th>UnifSize</th>\n",
              "      <th>UnifShape</th>\n",
              "      <th>MargAdh</th>\n",
              "      <th>SingEpiSize</th>\n",
              "      <th>BareNuc</th>\n",
              "      <th>BlandChrom</th>\n",
              "      <th>NormNucl</th>\n",
              "      <th>Mit</th>\n",
              "      <th>Class</th>\n",
              "    </tr>\n",
              "  </thead>\n",
              "  <tbody>\n",
              "    <tr>\n",
              "      <th>39</th>\n",
              "      <td>1091262</td>\n",
              "      <td>2</td>\n",
              "      <td>5</td>\n",
              "      <td>3</td>\n",
              "      <td>3</td>\n",
              "      <td>6</td>\n",
              "      <td>7</td>\n",
              "      <td>7</td>\n",
              "      <td>5</td>\n",
              "      <td>1</td>\n",
              "      <td>4</td>\n",
              "    </tr>\n",
              "    <tr>\n",
              "      <th>40</th>\n",
              "      <td>1096800</td>\n",
              "      <td>6</td>\n",
              "      <td>6</td>\n",
              "      <td>6</td>\n",
              "      <td>9</td>\n",
              "      <td>6</td>\n",
              "      <td>?</td>\n",
              "      <td>7</td>\n",
              "      <td>8</td>\n",
              "      <td>1</td>\n",
              "      <td>2</td>\n",
              "    </tr>\n",
              "    <tr>\n",
              "      <th>41</th>\n",
              "      <td>1099510</td>\n",
              "      <td>10</td>\n",
              "      <td>4</td>\n",
              "      <td>3</td>\n",
              "      <td>1</td>\n",
              "      <td>3</td>\n",
              "      <td>3</td>\n",
              "      <td>6</td>\n",
              "      <td>5</td>\n",
              "      <td>2</td>\n",
              "      <td>4</td>\n",
              "    </tr>\n",
              "    <tr>\n",
              "      <th>42</th>\n",
              "      <td>1100524</td>\n",
              "      <td>6</td>\n",
              "      <td>10</td>\n",
              "      <td>10</td>\n",
              "      <td>2</td>\n",
              "      <td>8</td>\n",
              "      <td>10</td>\n",
              "      <td>7</td>\n",
              "      <td>3</td>\n",
              "      <td>3</td>\n",
              "      <td>4</td>\n",
              "    </tr>\n",
              "    <tr>\n",
              "      <th>43</th>\n",
              "      <td>1102573</td>\n",
              "      <td>5</td>\n",
              "      <td>6</td>\n",
              "      <td>5</td>\n",
              "      <td>6</td>\n",
              "      <td>10</td>\n",
              "      <td>1</td>\n",
              "      <td>3</td>\n",
              "      <td>1</td>\n",
              "      <td>1</td>\n",
              "      <td>4</td>\n",
              "    </tr>\n",
              "    <tr>\n",
              "      <th>44</th>\n",
              "      <td>1103608</td>\n",
              "      <td>10</td>\n",
              "      <td>10</td>\n",
              "      <td>10</td>\n",
              "      <td>4</td>\n",
              "      <td>8</td>\n",
              "      <td>1</td>\n",
              "      <td>8</td>\n",
              "      <td>10</td>\n",
              "      <td>1</td>\n",
              "      <td>4</td>\n",
              "    </tr>\n",
              "    <tr>\n",
              "      <th>45</th>\n",
              "      <td>1103722</td>\n",
              "      <td>1</td>\n",
              "      <td>1</td>\n",
              "      <td>1</td>\n",
              "      <td>1</td>\n",
              "      <td>2</td>\n",
              "      <td>1</td>\n",
              "      <td>2</td>\n",
              "      <td>1</td>\n",
              "      <td>2</td>\n",
              "      <td>2</td>\n",
              "    </tr>\n",
              "    <tr>\n",
              "      <th>46</th>\n",
              "      <td>1105257</td>\n",
              "      <td>3</td>\n",
              "      <td>7</td>\n",
              "      <td>7</td>\n",
              "      <td>4</td>\n",
              "      <td>4</td>\n",
              "      <td>9</td>\n",
              "      <td>4</td>\n",
              "      <td>8</td>\n",
              "      <td>1</td>\n",
              "      <td>4</td>\n",
              "    </tr>\n",
              "    <tr>\n",
              "      <th>47</th>\n",
              "      <td>1105524</td>\n",
              "      <td>1</td>\n",
              "      <td>1</td>\n",
              "      <td>1</td>\n",
              "      <td>1</td>\n",
              "      <td>2</td>\n",
              "      <td>1</td>\n",
              "      <td>2</td>\n",
              "      <td>1</td>\n",
              "      <td>1</td>\n",
              "      <td>2</td>\n",
              "    </tr>\n",
              "    <tr>\n",
              "      <th>48</th>\n",
              "      <td>1106095</td>\n",
              "      <td>4</td>\n",
              "      <td>1</td>\n",
              "      <td>1</td>\n",
              "      <td>3</td>\n",
              "      <td>2</td>\n",
              "      <td>1</td>\n",
              "      <td>3</td>\n",
              "      <td>1</td>\n",
              "      <td>1</td>\n",
              "      <td>2</td>\n",
              "    </tr>\n",
              "  </tbody>\n",
              "</table>\n",
              "</div>\n",
              "      <button class=\"colab-df-convert\" onclick=\"convertToInteractive('df-f90ff867-e103-42b7-8da2-30773e9935a0')\"\n",
              "              title=\"Convert this dataframe to an interactive table.\"\n",
              "              style=\"display:none;\">\n",
              "        \n",
              "  <svg xmlns=\"http://www.w3.org/2000/svg\" height=\"24px\"viewBox=\"0 0 24 24\"\n",
              "       width=\"24px\">\n",
              "    <path d=\"M0 0h24v24H0V0z\" fill=\"none\"/>\n",
              "    <path d=\"M18.56 5.44l.94 2.06.94-2.06 2.06-.94-2.06-.94-.94-2.06-.94 2.06-2.06.94zm-11 1L8.5 8.5l.94-2.06 2.06-.94-2.06-.94L8.5 2.5l-.94 2.06-2.06.94zm10 10l.94 2.06.94-2.06 2.06-.94-2.06-.94-.94-2.06-.94 2.06-2.06.94z\"/><path d=\"M17.41 7.96l-1.37-1.37c-.4-.4-.92-.59-1.43-.59-.52 0-1.04.2-1.43.59L10.3 9.45l-7.72 7.72c-.78.78-.78 2.05 0 2.83L4 21.41c.39.39.9.59 1.41.59.51 0 1.02-.2 1.41-.59l7.78-7.78 2.81-2.81c.8-.78.8-2.07 0-2.86zM5.41 20L4 18.59l7.72-7.72 1.47 1.35L5.41 20z\"/>\n",
              "  </svg>\n",
              "      </button>\n",
              "      \n",
              "  <style>\n",
              "    .colab-df-container {\n",
              "      display:flex;\n",
              "      flex-wrap:wrap;\n",
              "      gap: 12px;\n",
              "    }\n",
              "\n",
              "    .colab-df-convert {\n",
              "      background-color: #E8F0FE;\n",
              "      border: none;\n",
              "      border-radius: 50%;\n",
              "      cursor: pointer;\n",
              "      display: none;\n",
              "      fill: #1967D2;\n",
              "      height: 32px;\n",
              "      padding: 0 0 0 0;\n",
              "      width: 32px;\n",
              "    }\n",
              "\n",
              "    .colab-df-convert:hover {\n",
              "      background-color: #E2EBFA;\n",
              "      box-shadow: 0px 1px 2px rgba(60, 64, 67, 0.3), 0px 1px 3px 1px rgba(60, 64, 67, 0.15);\n",
              "      fill: #174EA6;\n",
              "    }\n",
              "\n",
              "    [theme=dark] .colab-df-convert {\n",
              "      background-color: #3B4455;\n",
              "      fill: #D2E3FC;\n",
              "    }\n",
              "\n",
              "    [theme=dark] .colab-df-convert:hover {\n",
              "      background-color: #434B5C;\n",
              "      box-shadow: 0px 1px 3px 1px rgba(0, 0, 0, 0.15);\n",
              "      filter: drop-shadow(0px 1px 2px rgba(0, 0, 0, 0.3));\n",
              "      fill: #FFFFFF;\n",
              "    }\n",
              "  </style>\n",
              "\n",
              "      <script>\n",
              "        const buttonEl =\n",
              "          document.querySelector('#df-f90ff867-e103-42b7-8da2-30773e9935a0 button.colab-df-convert');\n",
              "        buttonEl.style.display =\n",
              "          google.colab.kernel.accessAllowed ? 'block' : 'none';\n",
              "\n",
              "        async function convertToInteractive(key) {\n",
              "          const element = document.querySelector('#df-f90ff867-e103-42b7-8da2-30773e9935a0');\n",
              "          const dataTable =\n",
              "            await google.colab.kernel.invokeFunction('convertToInteractive',\n",
              "                                                     [key], {});\n",
              "          if (!dataTable) return;\n",
              "\n",
              "          const docLinkHtml = 'Like what you see? Visit the ' +\n",
              "            '<a target=\"_blank\" href=https://colab.research.google.com/notebooks/data_table.ipynb>data table notebook</a>'\n",
              "            + ' to learn more about interactive tables.';\n",
              "          element.innerHTML = '';\n",
              "          dataTable['output_type'] = 'display_data';\n",
              "          await google.colab.output.renderOutput(dataTable, element);\n",
              "          const docLink = document.createElement('div');\n",
              "          docLink.innerHTML = docLinkHtml;\n",
              "          element.appendChild(docLink);\n",
              "        }\n",
              "      </script>\n",
              "    </div>\n",
              "  </div>\n",
              "  "
            ]
          },
          "metadata": {},
          "execution_count": 72
        }
      ]
    },
    {
      "cell_type": "markdown",
      "source": [
        "Now, our task here is to extract the pattern from data and divide them into two classes.\n",
        "each column represents a feature of a cell which contributes to being in Bengin class or in Malignant class.\n"
      ],
      "metadata": {
        "id": "_I_koVL19iW_"
      }
    },
    {
      "cell_type": "markdown",
      "source": [
        "the data is divided into two classes based on the cells characterastic, \n",
        "* Bengin(Value = 2), this means its not dangerous \n",
        "* Malignant (value =4), it is dangerous and causes cancer\n"
      ],
      "metadata": {
        "id": "8CbckCQtenlP"
      }
    },
    {
      "cell_type": "markdown",
      "source": [
        "Here, we will look and plot different features belonging two classes to find the one which has more weights in deciding to which category it mights belong to."
      ],
      "metadata": {
        "id": "4DXBOCrx-qBY"
      }
    },
    {
      "cell_type": "code",
      "source": [
        ""
      ],
      "metadata": {
        "id": "ZPwrEvXAduni"
      },
      "execution_count": 72,
      "outputs": []
    },
    {
      "cell_type": "markdown",
      "source": [
        "\n",
        "| Field name  | Description                 |\n",
        "| ----------- | --------------------------- |\n",
        "| ID          | Clump thickness             |\n",
        "| Clump       | Clump thickness             |\n",
        "| UnifSize    | Uniformity of cell size     |\n",
        "| UnifShape   | Uniformity of cell shape    |\n",
        "| MargAdh     | Marginal adhesion           |\n",
        "| SingEpiSize | Single epithelial cell size |\n",
        "| BareNuc     | Bare nuclei                 |\n",
        "| BlandChrom  | Bland chromatin             |\n",
        "| NormNucl    | Normal nucleoli             |\n",
        "| Mit         | Mitoses                     |\n",
        "| Class       | Benign or malignant         |\n",
        "<br>\n",
        "<br>"
      ],
      "metadata": {
        "id": "HGkjnX8ODh8_"
      }
    },
    {
      "cell_type": "markdown",
      "source": [
        "### Now Lets do the Scatter plot for each feature vector, to look if we can interpret any insight and look at their relationship to the both of the classes."
      ],
      "metadata": {
        "id": "GKctO9zICXzV"
      }
    },
    {
      "cell_type": "markdown",
      "source": [
        "\tMarginal adhesion vs Single epithelial cell size"
      ],
      "metadata": {
        "id": "S94PjoRuDmmX"
      }
    },
    {
      "cell_type": "markdown",
      "source": [
        "## **Marginal adhesion vs Single epithelial cell size**\n"
      ],
      "metadata": {
        "id": "MiUO1NS8Eg4Z"
      }
    },
    {
      "cell_type": "code",
      "source": [
        "ax = df[df['Class'] == 4][0:100].plot(kind='scatter', x='MargAdh', y='SingEpiSize', color='DarkBlue', label='malignant');\n",
        "df[df['Class'] == 2][0:100].plot(kind='scatter', x='MargAdh', y='SingEpiSize', color='Yellow', label='benign', ax=ax);\n",
        "plt.show()"
      ],
      "metadata": {
        "colab": {
          "base_uri": "https://localhost:8080/",
          "height": 279
        },
        "id": "-5RXHwBd_MbV",
        "outputId": "4e3bb071-e8bb-42e8-c733-ed1ec01487e6"
      },
      "execution_count": 73,
      "outputs": [
        {
          "output_type": "display_data",
          "data": {
            "text/plain": [
              "<Figure size 432x288 with 1 Axes>"
            ],
            "image/png": "[encoded data removed]"
          },
          "metadata": {
            "needs_background": "light"
          }
        }
      ]
    },
    {
      "cell_type": "markdown",
      "source": [
        "in Bottom left of the above graph there is nmore chance of being in Benign category and the other region we can see more of Malignant class.\n",
        "we can estimate that as MargAdh and Single epithelial cell size increases the, they are most likely to be in Malignant class."
      ],
      "metadata": {
        "id": "esDOZ4lPGyOn"
      }
    },
    {
      "cell_type": "markdown",
      "source": [
        "\t\n",
        "## **Clump thickness vs\tUniformity of cell size**"
      ],
      "metadata": {
        "id": "TPwdR1uwEswb"
      }
    },
    {
      "cell_type": "code",
      "source": [
        "ax = df[df['Class'] == 4][0:100].plot(kind='scatter', x='Clump', y='UnifSize', color='DarkBlue', label='malignant');\n",
        "df[df['Class'] == 2][0:100].plot(kind='scatter', x='Clump', y='UnifSize', color='Yellow', label='benign', ax=ax);\n",
        "plt.show()"
      ],
      "metadata": {
        "colab": {
          "base_uri": "https://localhost:8080/",
          "height": 279
        },
        "id": "s28mInjV_bv6",
        "outputId": "0782c3de-449e-45a3-8711-2944102c6dc1"
      },
      "execution_count": 74,
      "outputs": [
        {
          "output_type": "display_data",
          "data": {
            "text/plain": [
              "<Figure size 432x288 with 1 Axes>"
            ],
            "image/png": "[encoded data removed]"
          },
          "metadata": {
            "needs_background": "light"
          }
        }
      ]
    },
    {
      "cell_type": "markdown",
      "source": [
        "## **Mitoses vs Uniformity of cell size**"
      ],
      "metadata": {
        "id": "ovCTetQ2DvSd"
      }
    },
    {
      "cell_type": "code",
      "source": [
        "\n",
        "ax = df[df['Class'] == 4][0:50].plot(kind='scatter', x='UnifSize', y='Mit', color='DarkBlue', label='malignant');\n",
        "df[df['Class'] == 2][0:50].plot(kind='scatter',x='UnifSize', y='Mit', color='Yellow', label='benign', ax=ax);\n",
        "plt.show()"
      ],
      "metadata": {
        "colab": {
          "base_uri": "https://localhost:8080/",
          "height": 279
        },
        "id": "kjV6EU0Y_uel",
        "outputId": "28d30fc7-f33e-4723-fc0f-e2aa3fee8e68"
      },
      "execution_count": 75,
      "outputs": [
        {
          "output_type": "display_data",
          "data": {
            "text/plain": [
              "<Figure size 432x288 with 1 Axes>"
            ],
            "image/png": "[encoded data removed]"
          },
          "metadata": {
            "needs_background": "light"
          }
        }
      ]
    },
    {
      "cell_type": "markdown",
      "source": [
        "from above scatter plot we can see a strong relation ship between the two features as Mitosis and Uniformity of Cell Size increases, there is more chance of falling in the Malignant category, but mitosis does not look contribute much here"
      ],
      "metadata": {
        "id": "_6peQsnMF-2k"
      }
    },
    {
      "cell_type": "markdown",
      "source": [
        ""
      ],
      "metadata": {
        "id": "nOwXApD8F7BF"
      }
    },
    {
      "cell_type": "markdown",
      "source": [
        "## **Bland chromatin vs Bare nuclei**"
      ],
      "metadata": {
        "id": "SOsXdY3nD3Dl"
      }
    },
    {
      "cell_type": "code",
      "source": [
        "ax = df[df['Class'] == 4][0:50].plot(kind='scatter', x='BlandChrom', y='BareNuc', color='DarkBlue', label='malignant');\n",
        "df[df['Class'] == 2][0:50].plot(kind='scatter',x='BlandChrom', y='BareNuc', color='Yellow', label='benign', ax=ax);\n",
        "plt.show()"
      ],
      "metadata": {
        "id": "CvPQtxeN_7bi",
        "colab": {
          "base_uri": "https://localhost:8080/",
          "height": 279
        },
        "outputId": "60acca02-3388-4335-97fa-5d096476b063"
      },
      "execution_count": 76,
      "outputs": [
        {
          "output_type": "display_data",
          "data": {
            "text/plain": [
              "<Figure size 432x288 with 1 Axes>"
            ],
            "image/png": "[encoded data removed]"
          },
          "metadata": {
            "needs_background": "light"
          }
        }
      ]
    },
    {
      "cell_type": "markdown",
      "source": [
        "from above scatter plot, we can see raltively as the BlandChrom increases, the chances of falling in Malignant category also increases, but here is not a strong relation ship between these two features, and also as we can see they are linearly seperable unless we go for higher dimensional feature transformation."
      ],
      "metadata": {
        "id": "1-CrAOYcEY22"
      }
    },
    {
      "cell_type": "markdown",
      "source": [
        "## Note\n",
        "the above scatter plots shows that none of the above figures is linearly seperable unless we do the feature transformation.\n",
        "this is one of the main advantage of SVM which it guarantees that if data is seperable, it will return the one with maximum margin."
      ],
      "metadata": {
        "id": "KCubSsqyHiJF"
      }
    },
    {
      "cell_type": "markdown",
      "source": [
        "# Data PreProcessing"
      ],
      "metadata": {
        "id": "qBqbDKDRCTWf"
      }
    },
    {
      "cell_type": "code",
      "source": [
        "df.dtypes"
      ],
      "metadata": {
        "colab": {
          "base_uri": "https://localhost:8080/"
        },
        "id": "7eofIk7lIL30",
        "outputId": "25944537-5a34-4685-90de-feba483006cb"
      },
      "execution_count": 77,
      "outputs": [
        {
          "output_type": "execute_result",
          "data": {
            "text/plain": [
              "ID              int64\n",
              "Clump           int64\n",
              "UnifSize        int64\n",
              "UnifShape       int64\n",
              "MargAdh         int64\n",
              "SingEpiSize     int64\n",
              "BareNuc        object\n",
              "BlandChrom      int64\n",
              "NormNucl        int64\n",
              "Mit             int64\n",
              "Class           int64\n",
              "dtype: object"
            ]
          },
          "metadata": {},
          "execution_count": 77
        }
      ]
    },
    {
      "cell_type": "markdown",
      "source": [
        "from above trable we can see that the BareNuc contains some non_numeric value. in the above also we could see in row 40, there was a non numeircal value.\n",
        "Lets drop those row which contain non_numerical values"
      ],
      "metadata": {
        "id": "KRxdlIQLIyoF"
      }
    },
    {
      "cell_type": "code",
      "source": [
        "df = df[pd.to_numeric(df['BareNuc'], errors='coerce').notnull()]\n",
        "df['BareNuc'] = df['BareNuc'].astype('int')\n",
        "df.dtypes"
      ],
      "metadata": {
        "colab": {
          "base_uri": "https://localhost:8080/"
        },
        "id": "3M1zL-HiKBMp",
        "outputId": "1a639c77-30db-452a-b51f-762a16b791a8"
      },
      "execution_count": 78,
      "outputs": [
        {
          "output_type": "stream",
          "name": "stderr",
          "text": [
            "/usr/local/lib/python3.7/dist-packages/ipykernel_launcher.py:2: SettingWithCopyWarning: \n",
            "A value is trying to be set on a copy of a slice from a DataFrame.\n",
            "Try using .loc[row_indexer,col_indexer] = value instead\n",
            "\n",
            "See the caveats in the documentation: https://pandas.pydata.org/pandas-docs/stable/user_guide/indexing.html#returning-a-view-versus-a-copy\n",
            "  \n"
          ]
        },
        {
          "output_type": "execute_result",
          "data": {
            "text/plain": [
              "ID             int64\n",
              "Clump          int64\n",
              "UnifSize       int64\n",
              "UnifShape      int64\n",
              "MargAdh        int64\n",
              "SingEpiSize    int64\n",
              "BareNuc        int64\n",
              "BlandChrom     int64\n",
              "NormNucl       int64\n",
              "Mit            int64\n",
              "Class          int64\n",
              "dtype: object"
            ]
          },
          "metadata": {},
          "execution_count": 78
        }
      ]
    },
    {
      "cell_type": "markdown",
      "source": [
        "Now,every thing is cleaned up"
      ],
      "metadata": {
        "id": "F7xOCpY_KMSn"
      }
    },
    {
      "cell_type": "code",
      "source": [
        "df.describe()"
      ],
      "metadata": {
        "colab": {
          "base_uri": "https://localhost:8080/",
          "height": 300
        },
        "id": "qrPXgrZfISpQ",
        "outputId": "07bcfc05-18c6-4cec-b950-3c600b63c95c"
      },
      "execution_count": 79,
      "outputs": [
        {
          "output_type": "execute_result",
          "data": {
            "text/plain": [
              "                 ID       Clump    UnifSize   UnifShape     MargAdh  \\\n",
              "count  6.830000e+02  683.000000  683.000000  683.000000  683.000000   \n",
              "mean   1.076720e+06    4.442167    3.150805    3.215227    2.830161   \n",
              "std    6.206440e+05    2.820761    3.065145    2.988581    2.864562   \n",
              "min    6.337500e+04    1.000000    1.000000    1.000000    1.000000   \n",
              "25%    8.776170e+05    2.000000    1.000000    1.000000    1.000000   \n",
              "50%    1.171795e+06    4.000000    1.000000    1.000000    1.000000   \n",
              "75%    1.238705e+06    6.000000    5.000000    5.000000    4.000000   \n",
              "max    1.345435e+07   10.000000   10.000000   10.000000   10.000000   \n",
              "\n",
              "       SingEpiSize     BareNuc  BlandChrom    NormNucl         Mit       Class  \n",
              "count   683.000000  683.000000  683.000000  683.000000  683.000000  683.000000  \n",
              "mean      3.234261    3.544656    3.445095    2.869693    1.603221    2.699854  \n",
              "std       2.223085    3.643857    2.449697    3.052666    1.732674    0.954592  \n",
              "min       1.000000    1.000000    1.000000    1.000000    1.000000    2.000000  \n",
              "25%       2.000000    1.000000    2.000000    1.000000    1.000000    2.000000  \n",
              "50%       2.000000    1.000000    3.000000    1.000000    1.000000    2.000000  \n",
              "75%       4.000000    6.000000    5.000000    4.000000    1.000000    4.000000  \n",
              "max      10.000000   10.000000   10.000000   10.000000   10.000000    4.000000  "
            ],
            "text/html": [
              "\n",
              "  <div id=\"df-64211003-5282-42ec-b7f2-772e4dfa2cc5\">\n",
              "    <div class=\"colab-df-container\">\n",
              "      <div>\n",
              "<style scoped>\n",
              "    .dataframe tbody tr th:only-of-type {\n",
              "        vertical-align: middle;\n",
              "    }\n",
              "\n",
              "    .dataframe tbody tr th {\n",
              "        vertical-align: top;\n",
              "    }\n",
              "\n",
              "    .dataframe thead th {\n",
              "        text-align: right;\n",
              "    }\n",
              "</style>\n",
              "<table border=\"1\" class=\"dataframe\">\n",
              "  <thead>\n",
              "    <tr style=\"text-align: right;\">\n",
              "      <th></th>\n",
              "      <th>ID</th>\n",
              "      <th>Clump</th>\n",
              "      <th>UnifSize</th>\n",
              "      <th>UnifShape</th>\n",
              "      <th>MargAdh</th>\n",
              "      <th>SingEpiSize</th>\n",
              "      <th>BareNuc</th>\n",
              "      <th>BlandChrom</th>\n",
              "      <th>NormNucl</th>\n",
              "      <th>Mit</th>\n",
              "      <th>Class</th>\n",
              "    </tr>\n",
              "  </thead>\n",
              "  <tbody>\n",
              "    <tr>\n",
              "      <th>count</th>\n",
              "      <td>6.830000e+02</td>\n",
              "      <td>683.000000</td>\n",
              "      <td>683.000000</td>\n",
              "      <td>683.000000</td>\n",
              "      <td>683.000000</td>\n",
              "      <td>683.000000</td>\n",
              "      <td>683.000000</td>\n",
              "      <td>683.000000</td>\n",
              "      <td>683.000000</td>\n",
              "      <td>683.000000</td>\n",
              "      <td>683.000000</td>\n",
              "    </tr>\n",
              "    <tr>\n",
              "      <th>mean</th>\n",
              "      <td>1.076720e+06</td>\n",
              "      <td>4.442167</td>\n",
              "      <td>3.150805</td>\n",
              "      <td>3.215227</td>\n",
              "      <td>2.830161</td>\n",
              "      <td>3.234261</td>\n",
              "      <td>3.544656</td>\n",
              "      <td>3.445095</td>\n",
              "      <td>2.869693</td>\n",
              "      <td>1.603221</td>\n",
              "      <td>2.699854</td>\n",
              "    </tr>\n",
              "    <tr>\n",
              "      <th>std</th>\n",
              "      <td>6.206440e+05</td>\n",
              "      <td>2.820761</td>\n",
              "      <td>3.065145</td>\n",
              "      <td>2.988581</td>\n",
              "      <td>2.864562</td>\n",
              "      <td>2.223085</td>\n",
              "      <td>3.643857</td>\n",
              "      <td>2.449697</td>\n",
              "      <td>3.052666</td>\n",
              "      <td>1.732674</td>\n",
              "      <td>0.954592</td>\n",
              "    </tr>\n",
              "    <tr>\n",
              "      <th>min</th>\n",
              "      <td>6.337500e+04</td>\n",
              "      <td>1.000000</td>\n",
              "      <td>1.000000</td>\n",
              "      <td>1.000000</td>\n",
              "      <td>1.000000</td>\n",
              "      <td>1.000000</td>\n",
              "      <td>1.000000</td>\n",
              "      <td>1.000000</td>\n",
              "      <td>1.000000</td>\n",
              "      <td>1.000000</td>\n",
              "      <td>2.000000</td>\n",
              "    </tr>\n",
              "    <tr>\n",
              "      <th>25%</th>\n",
              "      <td>8.776170e+05</td>\n",
              "      <td>2.000000</td>\n",
              "      <td>1.000000</td>\n",
              "      <td>1.000000</td>\n",
              "      <td>1.000000</td>\n",
              "      <td>2.000000</td>\n",
              "      <td>1.000000</td>\n",
              "      <td>2.000000</td>\n",
              "      <td>1.000000</td>\n",
              "      <td>1.000000</td>\n",
              "      <td>2.000000</td>\n",
              "    </tr>\n",
              "    <tr>\n",
              "      <th>50%</th>\n",
              "      <td>1.171795e+06</td>\n",
              "      <td>4.000000</td>\n",
              "      <td>1.000000</td>\n",
              "      <td>1.000000</td>\n",
              "      <td>1.000000</td>\n",
              "      <td>2.000000</td>\n",
              "      <td>1.000000</td>\n",
              "      <td>3.000000</td>\n",
              "      <td>1.000000</td>\n",
              "      <td>1.000000</td>\n",
              "      <td>2.000000</td>\n",
              "    </tr>\n",
              "    <tr>\n",
              "      <th>75%</th>\n",
              "      <td>1.238705e+06</td>\n",
              "      <td>6.000000</td>\n",
              "      <td>5.000000</td>\n",
              "      <td>5.000000</td>\n",
              "      <td>4.000000</td>\n",
              "      <td>4.000000</td>\n",
              "      <td>6.000000</td>\n",
              "      <td>5.000000</td>\n",
              "      <td>4.000000</td>\n",
              "      <td>1.000000</td>\n",
              "      <td>4.000000</td>\n",
              "    </tr>\n",
              "    <tr>\n",
              "      <th>max</th>\n",
              "      <td>1.345435e+07</td>\n",
              "      <td>10.000000</td>\n",
              "      <td>10.000000</td>\n",
              "      <td>10.000000</td>\n",
              "      <td>10.000000</td>\n",
              "      <td>10.000000</td>\n",
              "      <td>10.000000</td>\n",
              "      <td>10.000000</td>\n",
              "      <td>10.000000</td>\n",
              "      <td>10.000000</td>\n",
              "      <td>4.000000</td>\n",
              "    </tr>\n",
              "  </tbody>\n",
              "</table>\n",
              "</div>\n",
              "      <button class=\"colab-df-convert\" onclick=\"convertToInteractive('df-64211003-5282-42ec-b7f2-772e4dfa2cc5')\"\n",
              "              title=\"Convert this dataframe to an interactive table.\"\n",
              "              style=\"display:none;\">\n",
              "        \n",
              "  <svg xmlns=\"http://www.w3.org/2000/svg\" height=\"24px\"viewBox=\"0 0 24 24\"\n",
              "       width=\"24px\">\n",
              "    <path d=\"M0 0h24v24H0V0z\" fill=\"none\"/>\n",
              "    <path d=\"M18.56 5.44l.94 2.06.94-2.06 2.06-.94-2.06-.94-.94-2.06-.94 2.06-2.06.94zm-11 1L8.5 8.5l.94-2.06 2.06-.94-2.06-.94L8.5 2.5l-.94 2.06-2.06.94zm10 10l.94 2.06.94-2.06 2.06-.94-2.06-.94-.94-2.06-.94 2.06-2.06.94z\"/><path d=\"M17.41 7.96l-1.37-1.37c-.4-.4-.92-.59-1.43-.59-.52 0-1.04.2-1.43.59L10.3 9.45l-7.72 7.72c-.78.78-.78 2.05 0 2.83L4 21.41c.39.39.9.59 1.41.59.51 0 1.02-.2 1.41-.59l7.78-7.78 2.81-2.81c.8-.78.8-2.07 0-2.86zM5.41 20L4 18.59l7.72-7.72 1.47 1.35L5.41 20z\"/>\n",
              "  </svg>\n",
              "      </button>\n",
              "      \n",
              "  <style>\n",
              "    .colab-df-container {\n",
              "      display:flex;\n",
              "      flex-wrap:wrap;\n",
              "      gap: 12px;\n",
              "    }\n",
              "\n",
              "    .colab-df-convert {\n",
              "      background-color: #E8F0FE;\n",
              "      border: none;\n",
              "      border-radius: 50%;\n",
              "      cursor: pointer;\n",
              "      display: none;\n",
              "      fill: #1967D2;\n",
              "      height: 32px;\n",
              "      padding: 0 0 0 0;\n",
              "      width: 32px;\n",
              "    }\n",
              "\n",
              "    .colab-df-convert:hover {\n",
              "      background-color: #E2EBFA;\n",
              "      box-shadow: 0px 1px 2px rgba(60, 64, 67, 0.3), 0px 1px 3px 1px rgba(60, 64, 67, 0.15);\n",
              "      fill: #174EA6;\n",
              "    }\n",
              "\n",
              "    [theme=dark] .colab-df-convert {\n",
              "      background-color: #3B4455;\n",
              "      fill: #D2E3FC;\n",
              "    }\n",
              "\n",
              "    [theme=dark] .colab-df-convert:hover {\n",
              "      background-color: #434B5C;\n",
              "      box-shadow: 0px 1px 3px 1px rgba(0, 0, 0, 0.15);\n",
              "      filter: drop-shadow(0px 1px 2px rgba(0, 0, 0, 0.3));\n",
              "      fill: #FFFFFF;\n",
              "    }\n",
              "  </style>\n",
              "\n",
              "      <script>\n",
              "        const buttonEl =\n",
              "          document.querySelector('#df-64211003-5282-42ec-b7f2-772e4dfa2cc5 button.colab-df-convert');\n",
              "        buttonEl.style.display =\n",
              "          google.colab.kernel.accessAllowed ? 'block' : 'none';\n",
              "\n",
              "        async function convertToInteractive(key) {\n",
              "          const element = document.querySelector('#df-64211003-5282-42ec-b7f2-772e4dfa2cc5');\n",
              "          const dataTable =\n",
              "            await google.colab.kernel.invokeFunction('convertToInteractive',\n",
              "                                                     [key], {});\n",
              "          if (!dataTable) return;\n",
              "\n",
              "          const docLinkHtml = 'Like what you see? Visit the ' +\n",
              "            '<a target=\"_blank\" href=https://colab.research.google.com/notebooks/data_table.ipynb>data table notebook</a>'\n",
              "            + ' to learn more about interactive tables.';\n",
              "          element.innerHTML = '';\n",
              "          dataTable['output_type'] = 'display_data';\n",
              "          await google.colab.output.renderOutput(dataTable, element);\n",
              "          const docLink = document.createElement('div');\n",
              "          docLink.innerHTML = docLinkHtml;\n",
              "          element.appendChild(docLink);\n",
              "        }\n",
              "      </script>\n",
              "    </div>\n",
              "  </div>\n",
              "  "
            ]
          },
          "metadata": {},
          "execution_count": 79
        }
      ]
    },
    {
      "cell_type": "markdown",
      "source": [
        "### Lets change our feature data to their numeric values and assign it to X as later we will use it for training purpose"
      ],
      "metadata": {
        "id": "07niNVC6KU7T"
      }
    },
    {
      "cell_type": "code",
      "source": [
        "feature_df = df[['Clump', 'UnifSize', 'UnifShape', 'MargAdh', 'SingEpiSize', 'BareNuc', 'BlandChrom', 'NormNucl', 'Mit']]\n",
        "X = np.asarray(feature_df)\n",
        "X[0:10]\n"
      ],
      "metadata": {
        "colab": {
          "base_uri": "https://localhost:8080/"
        },
        "id": "iKkQg4cdIU6a",
        "outputId": "60ff9298-daf3-4ce6-f30f-2c7635953294"
      },
      "execution_count": 80,
      "outputs": [
        {
          "output_type": "execute_result",
          "data": {
            "text/plain": [
              "array([[ 5,  1,  1,  1,  2,  1,  3,  1,  1],\n",
              "       [ 5,  4,  4,  5,  7, 10,  3,  2,  1],\n",
              "       [ 3,  1,  1,  1,  2,  2,  3,  1,  1],\n",
              "       [ 6,  8,  8,  1,  3,  4,  3,  7,  1],\n",
              "       [ 4,  1,  1,  3,  2,  1,  3,  1,  1],\n",
              "       [ 8, 10, 10,  8,  7, 10,  9,  7,  1],\n",
              "       [ 1,  1,  1,  1,  2, 10,  3,  1,  1],\n",
              "       [ 2,  1,  2,  1,  2,  1,  3,  1,  1],\n",
              "       [ 2,  1,  1,  1,  2,  1,  1,  1,  5],\n",
              "       [ 4,  2,  1,  1,  2,  1,  2,  1,  1]])"
            ]
          },
          "metadata": {},
          "execution_count": 80
        }
      ]
    },
    {
      "cell_type": "markdown",
      "source": [
        "### Now, coming to our dependent varible, it can take only two values, either(==2, Belongs to the Bengin), or (==4, belongs to Malignant)"
      ],
      "metadata": {
        "id": "BwCxfnfSK7AV"
      }
    },
    {
      "cell_type": "code",
      "source": [
        "dep_feature = df['Class']\n",
        "Y = np.asarray(dep_feature)\n",
        "Y[0:10]"
      ],
      "metadata": {
        "colab": {
          "base_uri": "https://localhost:8080/"
        },
        "id": "ewGhbzZ0Kvay",
        "outputId": "ba976a86-81a1-44e0-d59d-778ebd0235de"
      },
      "execution_count": 81,
      "outputs": [
        {
          "output_type": "execute_result",
          "data": {
            "text/plain": [
              "array([2, 2, 2, 2, 2, 4, 2, 2, 2, 2])"
            ]
          },
          "metadata": {},
          "execution_count": 81
        }
      ]
    },
    {
      "cell_type": "markdown",
      "source": [
        "# Train_Test Splitting:\n",
        "Now, it is time for splitting our data into two sets, for training the model and the other for testing of our model.\n",
        "sklearn do this for Us by using the train_test_split method which takes as input both the independent features and dependent varible, we can also decide how much percentage of our data we want to be used for testing, here we can see by assigning to 0.2, it means 20 percent of our data will be used for testing (Untouchable during training process).\n",
        "\n"
      ],
      "metadata": {
        "id": "QubS-8unNxiQ"
      }
    },
    {
      "cell_type": "code",
      "source": [
        "X_train, X_test, Y_train, Y_test = train_test_split( X, Y, test_size=0.2, random_state=4)\n",
        "print ('Train set:', X_train.shape,  Y_train.shape)\n",
        "print ('Test set:', X_test.shape,  Y_test.shape)"
      ],
      "metadata": {
        "colab": {
          "base_uri": "https://localhost:8080/"
        },
        "id": "5cvASVz_LuGZ",
        "outputId": "34454a39-6e5e-423a-de7a-b233c6100d42"
      },
      "execution_count": 82,
      "outputs": [
        {
          "output_type": "stream",
          "name": "stdout",
          "text": [
            "Train set: (546, 9) (546,)\n",
            "Test set: (137, 9) (137,)\n"
          ]
        }
      ]
    },
    {
      "cell_type": "markdown",
      "source": [
        "(546,9) means that we have 546 rows and 9 columns, which states that there is 546 set of data with 9 features (learnable) for training, which our model extracts patterns from these features to decide to which class they belongs to."
      ],
      "metadata": {
        "id": "tTUJlhUYPFO3"
      }
    },
    {
      "cell_type": "code",
      "source": [
        ""
      ],
      "metadata": {
        "id": "U0ErildhMQcf"
      },
      "execution_count": 82,
      "outputs": []
    },
    {
      "cell_type": "markdown",
      "source": [
        "# Modeling (SVM with Scikit-learn)\n",
        "The SVM algorithm offers a choice of kernel functions for performing its processing. Basically, mapping data into a higher dimensional space is called kernelling. The mathematical function used for the transformation is known as the kernel function, and can be of different types, such as:\n",
        "```\n",
        "1.Linear\n",
        "2.Polynomial\n",
        "3.Radial basis function (RBF)\n",
        "4.Sigmoid\n",
        "```\n",
        "Each of these functions has its characteristics, its pros and cons, and its equation, but as there's no easy way of knowing which function performs best with any given dataset. We usually choose different functions in turn and compare the results. Let's just use the default, RBF (Radial Basis Function)\n",
        "\n",
        "source: \"IBM Coursera\""
      ],
      "metadata": {
        "id": "Dm61fqf7ZfL6"
      }
    },
    {
      "cell_type": "markdown",
      "source": [
        "## SVC\n",
        "The objective of a Linear SVC (Support Vector Classifier) is to fit to the data you provide, returning a \"best fit\" hyperplane that divides, or categorizes, your data.  From there, after getting the hyperplane, you can then feed some features to your classifier to see what the \"predicted\" class is.\n"
      ],
      "metadata": {
        "id": "IjYhb6zXaRuh"
      }
    },
    {
      "cell_type": "code",
      "source": [
        "from sklearn import svm\n",
        "model = svm.SVC(kernel='rbf')\n",
        "model.fit(X_train, Y_train) \n"
      ],
      "metadata": {
        "colab": {
          "base_uri": "https://localhost:8080/"
        },
        "id": "PeA8yy-VZfqm",
        "outputId": "30e3ddcd-b032-4d90-b996-59f07adff794"
      },
      "execution_count": 83,
      "outputs": [
        {
          "output_type": "execute_result",
          "data": {
            "text/plain": [
              "SVC()"
            ]
          },
          "metadata": {},
          "execution_count": 83
        }
      ]
    },
    {
      "cell_type": "markdown",
      "source": [
        "### Predicting\n",
        "Now, as our model trained, we can test with our test data"
      ],
      "metadata": {
        "id": "66NqOzB_asV5"
      }
    },
    {
      "cell_type": "code",
      "source": [
        "y_predicted = model.predict(X_test)\n",
        "y_predicted[0:10]"
      ],
      "metadata": {
        "colab": {
          "base_uri": "https://localhost:8080/"
        },
        "id": "kRJMH21haBgF",
        "outputId": "30019bdd-b374-4b14-eca7-de99117f9c33"
      },
      "execution_count": 84,
      "outputs": [
        {
          "output_type": "execute_result",
          "data": {
            "text/plain": [
              "array([2, 4, 2, 4, 2, 2, 2, 2, 4, 2])"
            ]
          },
          "metadata": {},
          "execution_count": 84
        }
      ]
    },
    {
      "cell_type": "markdown",
      "source": [
        "# Evaluation.\n",
        "**Compute confusion matrix to evaluate the accuracy of a classification**.\n",
        "![Screenshot 2022-06-03 174241.jpg](data:image/jpeg;base64,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)\n",
        "A confusion matrix is a table that is often used to describe the performance of a classification model (or \"classifier\") on a set of test data for which the true values are known. \n",
        "The confusion matrix was utilized for the performance evaluations of the methods used after the classification.\n",
        "\n",
        "**sklearn.metrics.confusion_matrix(y_true, y_pred, *, labels=None, sample_weight=None, normalize=None)**.\n",
        "\n",
        "\n",
        "\n",
        "\n",
        "![3-s2.0-B9780323911979000138-f14-09-9780323911979.jpg](data:image/jpeg;base64,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)"
      ],
      "metadata": {
        "id": "6zjrOO-ib4TW"
      }
    },
    {
      "cell_type": "markdown",
      "source": [
        ""
      ],
      "metadata": {
        "id": "05YYu7uNfclL"
      }
    },
    {
      "cell_type": "code",
      "source": [
        "from sklearn.metrics import classification_report, confusion_matrix\n",
        "import itertools"
      ],
      "metadata": {
        "id": "1JwU_li-fcyW"
      },
      "execution_count": 85,
      "outputs": []
    },
    {
      "cell_type": "code",
      "source": [
        "def plot_confusion_matrix(cm, classes,\n",
        "                          normalize=False,\n",
        "                          title='Confusion matrix',\n",
        "                          cmap=plt.cm.Blues):\n",
        "    \"\"\"\n",
        "    This function prints and plots the confusion matrix.\n",
        "    Normalization can be applied by setting `normalize=True`.\n",
        "    \"\"\"\n",
        "    if normalize:\n",
        "        cm = cm.astype('float') / cm.sum(axis=1)[:, np.newaxis]\n",
        "        print(\"Normalized confusion matrix\")\n",
        "    else:\n",
        "        print('Confusion matrix, without normalization')\n",
        "\n",
        "    print(cm)\n",
        "\n",
        "    plt.imshow(cm, interpolation='nearest', cmap=cmap)\n",
        "    plt.title(title)\n",
        "    plt.colorbar()\n",
        "    tick_marks = np.arange(len(classes))\n",
        "    plt.xticks(tick_marks, classes, rotation=45)\n",
        "    plt.yticks(tick_marks, classes)\n",
        "\n",
        "    fmt = '.2f' if normalize else 'd'\n",
        "    thresh = cm.max() / 2.\n",
        "    for i, j in itertools.product(range(cm.shape[0]), range(cm.shape[1])):\n",
        "        plt.text(j, i, format(cm[i, j], fmt),\n",
        "                 horizontalalignment=\"center\",\n",
        "                 color=\"white\" if cm[i, j] > thresh else \"black\")\n",
        "\n",
        "    plt.tight_layout()\n",
        "    plt.ylabel('True label')\n",
        "    plt.xlabel('Predicted label')\n",
        "    "
      ],
      "metadata": {
        "id": "lCl82n1Ya2Gg"
      },
      "execution_count": 86,
      "outputs": []
    },
    {
      "cell_type": "code",
      "source": [
        "# Compute confusion matrix\n",
        "cnf_matrix = confusion_matrix(Y_test,y_predicted, labels=[2,4])\n",
        "np.set_printoptions(precision=2)\n",
        "\n",
        "print (classification_report(Y_test, y_predicted))\n",
        "\n",
        "# Plot non-normalized confusion matrix\n",
        "plt.figure()\n",
        "plot_confusion_matrix(cnf_matrix, classes=['Benign(2)','Malignant(4)'],normalize= False,  title='Confusion matrix')"
      ],
      "metadata": {
        "colab": {
          "base_uri": "https://localhost:8080/",
          "height": 530
        },
        "id": "o4NclDCzfJHS",
        "outputId": "ef1bd4d7-8a95-48d3-f56d-57cc582340fd"
      },
      "execution_count": 87,
      "outputs": [
        {
          "output_type": "stream",
          "name": "stdout",
          "text": [
            "              precision    recall  f1-score   support\n",
            "\n",
            "           2       1.00      0.94      0.97        90\n",
            "           4       0.90      1.00      0.95        47\n",
            "\n",
            "    accuracy                           0.96       137\n",
            "   macro avg       0.95      0.97      0.96       137\n",
            "weighted avg       0.97      0.96      0.96       137\n",
            "\n",
            "Confusion matrix, without normalization\n",
            "[[85  5]\n",
            " [ 0 47]]\n"
          ]
        },
        {
          "output_type": "display_data",
          "data": {
            "text/plain": [
              "<Figure size 432x288 with 2 Axes>"
            ],
            "image/png": "[encoded data removed]"
          },
          "metadata": {
            "needs_background": "light"
          }
        }
      ]
    },
    {
      "cell_type": "markdown",
      "source": [
        "### F1_score\n",
        "The F1 score can be interpreted as a weighted average of the precision and recall, where an F1 score reaches its best value at 1 and worst score at 0. The relative contribution of precision and recall to the F1 score are equal. The formula for the F1 score is.\n",
        "\n",
        "F1 = 2 * (precision * recall) / (precision + recall).\n",
        "\n",
        "**Precision**.\n",
        "\n",
        "Precision is defined as the fraction of relevant instances among all retrieved instances.\n",
        "What proportion of positive identifications was actually correct ?\n",
        "\n",
        "\n",
        "\n",
        "**recall**\n",
        "\n",
        "The recall is calculated as the ratio between the numbers of Positive samples correctly classified as Positive to the total number of Positive samples."
      ],
      "metadata": {
        "id": "UFJQwx26fp4F"
      }
    },
    {
      "cell_type": "code",
      "source": [
        "from sklearn.metrics import f1_score\n",
        "f1_score(Y_test, y_predicted, average='weighted') "
      ],
      "metadata": {
        "colab": {
          "base_uri": "https://localhost:8080/"
        },
        "id": "RRsBd_Omf-oY",
        "outputId": "b3e01108-bd82-4337-a79b-56bb1c1a7c7f"
      },
      "execution_count": 88,
      "outputs": [
        {
          "output_type": "execute_result",
          "data": {
            "text/plain": [
              "0.9639038982104676"
            ]
          },
          "metadata": {},
          "execution_count": 88
        }
      ]
    },
    {
      "cell_type": "markdown",
      "source": [
        "## Lets Use Sigmoid Kernel methode"
      ],
      "metadata": {
        "id": "WWfnKijpi0s2"
      }
    },
    {
      "cell_type": "code",
      "source": [
        "from sklearn import svm\n",
        "model = svm.SVC(kernel='sigmoid')\n",
        "model.fit(X_train, Y_train) "
      ],
      "metadata": {
        "colab": {
          "base_uri": "https://localhost:8080/"
        },
        "id": "bqSfxeEghJJd",
        "outputId": "50288f97-bb30-4791-92b3-eb0f9cb9a387"
      },
      "execution_count": 98,
      "outputs": [
        {
          "output_type": "execute_result",
          "data": {
            "text/plain": [
              "SVC(kernel='sigmoid')"
            ]
          },
          "metadata": {},
          "execution_count": 98
        }
      ]
    },
    {
      "cell_type": "code",
      "source": [
        "y_predicted = model.predict(X_test)\n",
        "y_predicted[0:10]"
      ],
      "metadata": {
        "colab": {
          "base_uri": "https://localhost:8080/"
        },
        "id": "9_PJwYgriCLz",
        "outputId": "d5702410-6022-4ba1-897d-e9a8f57b803a"
      },
      "execution_count": 99,
      "outputs": [
        {
          "output_type": "execute_result",
          "data": {
            "text/plain": [
              "array([2, 2, 2, 2, 2, 4, 4, 2, 2, 4])"
            ]
          },
          "metadata": {},
          "execution_count": 99
        }
      ]
    },
    {
      "cell_type": "code",
      "source": [
        "from sklearn.metrics import classification_report, confusion_matrix\n",
        "import itertools"
      ],
      "metadata": {
        "id": "Sdxv2y93iCN0"
      },
      "execution_count": 100,
      "outputs": []
    },
    {
      "cell_type": "code",
      "source": [
        "def plot_confusion_matrix(cm, classes,\n",
        "                          normalize=False,\n",
        "                          title='Confusion matrix',\n",
        "                          cmap=plt.cm.Blues):\n",
        "    \"\"\"\n",
        "    This function prints and plots the confusion matrix.\n",
        "    Normalization can be applied by setting `normalize=True`.\n",
        "    \"\"\"\n",
        "    if normalize:\n",
        "        cm = cm.astype('float') / cm.sum(axis=1)[:, np.newaxis]\n",
        "        print(\"Normalized confusion matrix\")\n",
        "    else:\n",
        "        print('Confusion matrix, without normalization')\n",
        "\n",
        "    print(cm)\n",
        "\n",
        "    plt.imshow(cm, interpolation='nearest', cmap=cmap)\n",
        "    plt.title(title)\n",
        "    plt.colorbar()\n",
        "    tick_marks = np.arange(len(classes))\n",
        "    plt.xticks(tick_marks, classes, rotation=45)\n",
        "    plt.yticks(tick_marks, classes)\n",
        "\n",
        "    fmt = '.2f' if normalize else 'd'\n",
        "    thresh = cm.max() / 2.\n",
        "    for i, j in itertools.product(range(cm.shape[0]), range(cm.shape[1])):\n",
        "        plt.text(j, i, format(cm[i, j], fmt),\n",
        "                 horizontalalignment=\"center\",\n",
        "                 color=\"white\" if cm[i, j] > thresh else \"black\")\n",
        "\n",
        "    plt.tight_layout()\n",
        "    plt.ylabel('True label')\n",
        "    plt.xlabel('Predicted label')\n",
        "    "
      ],
      "metadata": {
        "id": "PA6TpSiuiCPp"
      },
      "execution_count": 101,
      "outputs": []
    },
    {
      "cell_type": "code",
      "source": [
        "# Compute confusion matrix\n",
        "cnf_matrix = confusion_matrix(Y_test,y_predicted, labels=[2,4])\n",
        "np.set_printoptions(precision=2)\n",
        "\n",
        "print (classification_report(Y_test, y_predicted))\n",
        "\n",
        "# Plot non-normalized confusion matrix\n",
        "plt.figure()\n",
        "plot_confusion_matrix(cnf_matrix, classes=['Benign(2)','Malignant(4)'],normalize= False,  title='Confusion matrix')"
      ],
      "metadata": {
        "colab": {
          "base_uri": "https://localhost:8080/",
          "height": 530
        },
        "id": "b3BdMWMRiDv6",
        "outputId": "e18f39fd-d182-4b08-de6b-23ec75d7f234"
      },
      "execution_count": 102,
      "outputs": [
        {
          "output_type": "stream",
          "name": "stdout",
          "text": [
            "              precision    recall  f1-score   support\n",
            "\n",
            "           2       0.53      0.60      0.57        90\n",
            "           4       0.00      0.00      0.00        47\n",
            "\n",
            "    accuracy                           0.39       137\n",
            "   macro avg       0.27      0.30      0.28       137\n",
            "weighted avg       0.35      0.39      0.37       137\n",
            "\n",
            "Confusion matrix, without normalization\n",
            "[[54 36]\n",
            " [47  0]]\n"
          ]
        },
        {
          "output_type": "display_data",
          "data": {
            "text/plain": [
              "<Figure size 432x288 with 2 Axes>"
            ],
            "image/png": "[encoded data removed]"
          },
          "metadata": {
            "needs_background": "light"
          }
        }
      ]
    },
    {
      "cell_type": "code",
      "source": [
        "from sklearn.metrics import f1_score\n",
        "f1_score(Y_test, y_predicted, average='weighted') "
      ],
      "metadata": {
        "colab": {
          "base_uri": "https://localhost:8080/"
        },
        "id": "wKAAxsJhjYZU",
        "outputId": "1abc2b44-d67b-49c6-c3c8-41c6bb538673"
      },
      "execution_count": 103,
      "outputs": [
        {
          "output_type": "execute_result",
          "data": {
            "text/plain": [
              "0.3714602361753353"
            ]
          },
          "metadata": {},
          "execution_count": 103
        }
      ]
    },
    {
      "cell_type": "markdown",
      "source": [
        "## Conclusion:\n",
        "we were able to do classification using Support vector machines and tested with two different evaluation matrices, and also at the end we tried the sigmoid kernel also, which did not give a desirable result, it means we have to look at our datasets and based on that we can choose the kernel functions that give best result.\n",
        "\n",
        "sources:\n",
        "\n",
        "* https://www.coursera.org/learn/machine-learning-with-python/home/week/3.\n",
        "\n",
        "* https://developers.google.com/machine-learning/crash-course/classification/precision-and-recall.\n",
        "\n",
        "* https://scikit-learn.org/stable/modules/generated/sklearn.metrics.confusion_matrix.html.\n",
        "\n",
        "* https://www.youtube.com/watch?v=RwF1esLCG4U&ab_channel=KilianWeinberger\n",
        "\n",
        "Books:\n",
        "* an introduction to statistical learning.\n",
        "* pattern recognition and machine learning"
      ],
      "metadata": {
        "id": "-Td6ZnrTkUBF"
      }
    },
    {
      "cell_type": "code",
      "source": [
        ""
      ],
      "metadata": {
        "id": "c_umFmG8kO5-"
      },
      "execution_count": null,
      "outputs": []
    }
  ]
}