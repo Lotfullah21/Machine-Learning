{
  "nbformat": 4,
  "nbformat_minor": 0,
  "metadata": {
    "colab": {
      "name": "Regression.ipynb",
      "provenance": [],
      "collapsed_sections": [],
      "authorship_tag": "ABX9TyNRscFk26+YSpSKh+YoqvHu",
      "include_colab_link": true
    },
    "kernelspec": {
      "name": "python3",
      "display_name": "Python 3"
    },
    "language_info": {
      "name": "python"
    }
  },
  "cells": [
    {
      "cell_type": "markdown",
      "metadata": {
        "id": "view-in-github",
        "colab_type": "text"
      },
      "source": [
        "<a href=\"https://colab.research.google.com/github/Lotfullah21/Machine-Learning/blob/main/Regression.ipynb\" target=\"_parent\"><img src=\"https://colab.research.google.com/assets/colab-badge.svg\" alt=\"Open In Colab\"/></a>"
      ]
    },
    {
      "cell_type": "code",
      "execution_count": null,
      "metadata": {
        "id": "6XNP11NmzadV"
      },
      "outputs": [],
      "source": [
        ""
      ]
    },
    {
      "cell_type": "markdown",
      "source": [
        "# Regression Or OLS(ordinary Least squares) : \n",
        "it is the process of predicting a continues value. it is a supervised learning which is given a set of inputs with their labels. we are taking advantage of historical data to make prediction.\n",
        "here the labels are drawn from real numbers, like the amount of Co2 emission from a car, price of a car and so on.\n",
        "we model this with linear function,and our task is to estimate the slope which is also known is the parameter of the model, so that it best fits the label and the inputs(features).\n",
        "Loss(guess,actual) = (guess-actual)^2\n"
      ],
      "metadata": {
        "id": "688ul3At0XLy"
      }
    },
    {
      "cell_type": "markdown",
      "source": [
        ""
      ],
      "metadata": {
        "id": "7YzbqJWC0XUz"
      }
    }
  ]
}